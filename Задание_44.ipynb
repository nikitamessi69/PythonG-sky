{
  "nbformat": 4,
  "nbformat_minor": 0,
  "metadata": {
    "colab": {
      "provenance": [],
      "authorship_tag": "ABX9TyNRwML0X2lpdwiv8nfRkaud",
      "include_colab_link": true
    },
    "kernelspec": {
      "name": "python3",
      "display_name": "Python 3"
    },
    "language_info": {
      "name": "python"
    }
  },
  "cells": [
    {
      "cell_type": "markdown",
      "metadata": {
        "id": "view-in-github",
        "colab_type": "text"
      },
      "source": [
        "<a href=\"https://colab.research.google.com/github/nikitamessi69/PythonG-sky/blob/master/%D0%97%D0%B0%D0%B4%D0%B0%D0%BD%D0%B8%D0%B5_44.ipynb\" target=\"_parent\"><img src=\"https://colab.research.google.com/assets/colab-badge.svg\" alt=\"Open In Colab\"/></a>"
      ]
    },
    {
      "cell_type": "code",
      "execution_count": 1,
      "metadata": {
        "id": "PYVtE7Mn8AU6"
      },
      "outputs": [],
      "source": [
        "import random\n",
        "import pandas as pd\n",
        "from sklearn.preprocessing import OneHotEncoder"
      ]
    },
    {
      "cell_type": "code",
      "source": [
        "random.seed(42)"
      ],
      "metadata": {
        "id": "tCwuLd4i-xKa"
      },
      "execution_count": 2,
      "outputs": []
    },
    {
      "cell_type": "code",
      "source": [
        "lst = ['robot'] * 10\n",
        "lst += ['human'] * 10\n",
        "random.shuffle(lst)\n",
        "data = pd.DataFrame({'whoAmI': lst})\n",
        "print(\"Исходный DataFrame:\")\n",
        "print(data)"
      ],
      "metadata": {
        "colab": {
          "base_uri": "https://localhost:8080/"
        },
        "id": "GT4aFXmm-1Ld",
        "outputId": "dbe02075-c23b-4636-943b-699b58fea34e"
      },
      "execution_count": 14,
      "outputs": [
        {
          "output_type": "stream",
          "name": "stdout",
          "text": [
            "Исходный DataFrame:\n",
            "   whoAmI\n",
            "0   human\n",
            "1   robot\n",
            "2   robot\n",
            "3   human\n",
            "4   human\n",
            "5   human\n",
            "6   robot\n",
            "7   human\n",
            "8   robot\n",
            "9   human\n",
            "10  robot\n",
            "11  robot\n",
            "12  robot\n",
            "13  robot\n",
            "14  human\n",
            "15  robot\n",
            "16  human\n",
            "17  human\n",
            "18  robot\n",
            "19  human\n"
          ]
        }
      ]
    },
    {
      "cell_type": "code",
      "source": [
        "from sklearn.preprocessing import OneHotEncoder"
      ],
      "metadata": {
        "id": "HbAy82O2BWtM"
      },
      "execution_count": 15,
      "outputs": []
    },
    {
      "cell_type": "code",
      "source": [
        "encoder = OneHotEncoder()"
      ],
      "metadata": {
        "id": "09nFen22Bcj2"
      },
      "execution_count": 16,
      "outputs": []
    },
    {
      "cell_type": "code",
      "source": [
        "input_data = data[['whoAmI']]\n",
        "input_data_encoded = encoder.fit_transform(input_data)\n"
      ],
      "metadata": {
        "id": "mAYwegKPBgl-"
      },
      "execution_count": 17,
      "outputs": []
    },
    {
      "cell_type": "code",
      "source": [
        "new_df = pd.DataFrame.sparse.from_spmatrix(input_data_encoded, columns=encoder.get_feature_names_out(['whoAmI']))"
      ],
      "metadata": {
        "id": "pMx2BMFnBkbv"
      },
      "execution_count": 20,
      "outputs": []
    },
    {
      "cell_type": "code",
      "source": [
        "data = pd.concat([data, new_df], axis=1)\n"
      ],
      "metadata": {
        "id": "VuSKqzEJB5B5"
      },
      "execution_count": 21,
      "outputs": []
    },
    {
      "cell_type": "code",
      "source": [
        "data.drop('whoAmI', axis=1, inplace=True)"
      ],
      "metadata": {
        "id": "dt5dpuEKB8lP"
      },
      "execution_count": 22,
      "outputs": []
    },
    {
      "cell_type": "code",
      "source": [
        "print(\"\\nDataFrame после one-hot encoding:\")\n",
        "print(data)"
      ],
      "metadata": {
        "colab": {
          "base_uri": "https://localhost:8080/"
        },
        "id": "pBnd6LJOB_Y7",
        "outputId": "0bbf45c6-0ae9-4de8-9eaa-e5a9c0896aca"
      },
      "execution_count": 23,
      "outputs": [
        {
          "output_type": "stream",
          "name": "stdout",
          "text": [
            "\n",
            "DataFrame после one-hot encoding:\n",
            "    whoAmI_human  whoAmI_robot\n",
            "0            1.0           0.0\n",
            "1            0.0           1.0\n",
            "2            0.0           1.0\n",
            "3            1.0           0.0\n",
            "4            1.0           0.0\n",
            "5            1.0           0.0\n",
            "6            0.0           1.0\n",
            "7            1.0           0.0\n",
            "8            0.0           1.0\n",
            "9            1.0           0.0\n",
            "10           0.0           1.0\n",
            "11           0.0           1.0\n",
            "12           0.0           1.0\n",
            "13           0.0           1.0\n",
            "14           1.0           0.0\n",
            "15           0.0           1.0\n",
            "16           1.0           0.0\n",
            "17           1.0           0.0\n",
            "18           0.0           1.0\n",
            "19           1.0           0.0\n"
          ]
        }
      ]
    }
  ]
}